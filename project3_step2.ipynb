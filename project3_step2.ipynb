{
 "cells": [
  {
   "cell_type": "code",
   "execution_count": 21,
   "id": "0bdc0bd6-409a-4f86-a569-1dad13798c39",
   "metadata": {},
   "outputs": [],
   "source": [
    "import pandas as pd\n",
    "import requests"
   ]
  },
  {
   "cell_type": "code",
   "execution_count": 62,
   "id": "2f604d13-0147-4d4a-8903-44adf1c7a7cc",
   "metadata": {},
   "outputs": [],
   "source": [
    "\n",
    "api_visits = requests.get('https://data-charts-api.hexlet.app/visits?begin=2023-03-01&end=2023-09-01')\n",
    "data_visits = api_visits.json()"
   ]
  },
  {
   "cell_type": "code",
   "execution_count": 58,
   "id": "1384e009-e7c8-42ba-bea2-a425c78a0d2c",
   "metadata": {},
   "outputs": [],
   "source": [
    "\n",
    "api_regs = requests.get('https://data-charts-api.hexlet.app/registrations?begin=2023-03-01&end=2023-09-01')\n",
    "data_regs = api_regs.json()"
   ]
  },
  {
   "cell_type": "code",
   "execution_count": null,
   "id": "19ec1dda-df9a-4969-b1cd-556d2f240930",
   "metadata": {},
   "outputs": [],
   "source": []
  }
 ],
 "metadata": {
  "kernelspec": {
   "display_name": "Python [conda env:base] *",
   "language": "python",
   "name": "conda-base-py"
  },
  "language_info": {
   "codemirror_mode": {
    "name": "ipython",
    "version": 3
   },
   "file_extension": ".py",
   "mimetype": "text/x-python",
   "name": "python",
   "nbconvert_exporter": "python",
   "pygments_lexer": "ipython3",
   "version": "3.11.5"
  }
 },
 "nbformat": 4,
 "nbformat_minor": 5
}
